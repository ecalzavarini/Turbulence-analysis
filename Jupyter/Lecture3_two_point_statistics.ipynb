{
 "cells": [
  {
   "cell_type": "markdown",
   "metadata": {},
   "source": [
    "# Turbulence numerical explorations\n",
    "## Lecture 3\n",
    "\n",
    "Author: Enrico Calzavarini enrico.calzavarini@univ-lille.fr"
   ]
  },
  {
   "cell_type": "markdown",
   "metadata": {},
   "source": [
    "We look at the velocity specrta , velocity correlations and velocity increments statistics\n",
    "\n",
    "\n",
    "First we read turbulent flow field data from a **hdf5** file. "
   ]
  },
  {
   "cell_type": "code",
   "execution_count": 2,
   "metadata": {},
   "outputs": [
    {
     "name": "stdout",
     "output_type": "stream",
     "text": [
      "128 128 128\n"
     ]
    }
   ],
   "source": [
    "from math import *\n",
    "import numpy as np\n",
    "import h5py\n",
    "\n",
    "fname=\"../HIT_128/field_10000.h5\"\n",
    "f = h5py.File( fname,'r')\n",
    "\n",
    "vx=np.array(f['euler']['velocity_x'])\n",
    "vy=np.array(f['euler']['velocity_y'])\n",
    "vz=np.array(f['euler']['velocity_z'])\n",
    "\n",
    "NZ = vx.shape[0]\n",
    "NY = vx.shape[1]\n",
    "NX = vx.shape[2]\n",
    "print(NX,NY,NZ)"
   ]
  },
  {
   "cell_type": "markdown",
   "metadata": {},
   "source": [
    "This script computes:\n",
    "- compute the 3D spectra of the velocity field\n",
    "- save the data on file\n",
    "- draw a gaph and compare with Komlogorov -5/3 scaling"
   ]
  },
  {
   "cell_type": "code",
   "execution_count": 32,
   "metadata": {},
   "outputs": [
    {
     "data": {
      "text/plain": [
       "True"
      ]
     },
     "execution_count": 32,
     "metadata": {},
     "output_type": "execute_result"
    }
   ],
   "source": [
    "# defining global types and fields\n",
    "real_vector_dtype=np.dtype({'names':['x','y','z'], 'formats':[float,float,float] })\n",
    "complex_vector_dtype=np.dtype({'names':['x','y','z'], 'formats':[complex,complex,complex]})\n",
    "\n",
    "# define real field\n",
    "ur = np.zeros((NX,NY,NZ),real_vector_dtype)\n",
    "ur['x'] = vx\n",
    "ur['y'] = vy\n",
    "ur['z'] = vz \n",
    "\n",
    "\n",
    "# define field in spectral space\n",
    "# note that if f(x) is a real function, then its Fourier transform has a symmetry:\n",
    "# f(k)^* = f(-k) where ^* denotes the complex conjugate of the fourier transoform\n",
    "# this allows to store the data in nearly half of the space\n",
    "half_NZ_plus_1 = int(NZ/2+1)\n",
    "uc = np.zeros((NX,NY,half_NZ_plus_1),complex_vector_dtype)\n",
    "\n",
    "\n",
    "###################################################\n",
    "# Fourier  transform\n",
    "def fftv(ur):\n",
    "    uc = np.zeros((NX,NY,half_NZ_plus_1),complex_vector_dtype) #this is an internal variable\n",
    "    norm=1.#/ur['x'].size\n",
    "    uc['x'] = np.fft.rfftn(ur['x'])*norm\n",
    "    uc['y'] = np.fft.rfftn(ur['y'])*norm\n",
    "    uc['z'] = np.fft.rfftn(ur['z'])*norm\n",
    "    return uc;\n",
    "\n",
    "###############################################\n",
    "# Preliminary to spectra , the vector number arrays\n",
    "\n",
    "kx = np.fft.fftfreq(NX, 1./NX)\n",
    "ky = np.fft.fftfreq(NY, 1./NY)\n",
    "#kz = np.linspace(0, NZ/2, NZ/2+1, float)\n",
    "kz = np.fft.rfftfreq(NZ, 1./NZ)\n",
    "\n",
    "\n",
    "####################################################\n",
    "# Compute spectra\n",
    "def compute_spectra(uc):\n",
    "    ene=0.0\n",
    "    spect = np.zeros(half_NZ_plus_1, float)\n",
    "    kspect = np.zeros(half_NZ_plus_1, float)\n",
    "    for i in range(0,NX):\n",
    "        for j in range(0,NY):\n",
    "            for k in range(0,half_NZ_plus_1):\n",
    "                kabs=sqrt(kx[i]**2. + ky[j]**2. + kz[k]**2.)\n",
    "                ik=int(ceil(kabs))\n",
    "                if (k==0 or k==NZ/2):\n",
    "                    fac=0.5\n",
    "                else:\n",
    "                    fac=1.0                    \n",
    "                if ik < half_NZ_plus_1:\n",
    "                    ene = (np.abs(uc['x'][i,j,k]))**2. + (np.abs(uc['y'][i,j,k]))**2. + (np.abs(uc['z'][i,j,k]))**2.\n",
    "                    spect[ik] += fac*ene;\n",
    "                    kspect[ik] = kabs  \n",
    "    return kspect,spect            \n",
    "##################\n",
    "\n",
    "# compute spectra\n",
    "uc = fftv(ur) \n",
    "kspect,spect=compute_spectra(uc)\n",
    "\n",
    "with open('spectra.dat', 'w') as f:\n",
    "    for i in range(0,half_NZ_plus_1):\n",
    "        #print >> f, i , spect[i]\n",
    "        line = str(kspect[i])+\" \"+str(spect[i])+\"\\n\"\n",
    "        f.write(line)\n",
    "f.closed     \n"
   ]
  },
  {
   "cell_type": "code",
   "execution_count": 31,
   "metadata": {},
   "outputs": [
    {
     "data": {
      "image/png": "[encoded data removed]",
      "text/plain": [
       "<Figure size 432x288 with 1 Axes>"
      ]
     },
     "metadata": {
      "needs_background": "light"
     },
     "output_type": "display_data"
    }
   ],
   "source": [
    "######\n",
    "# graph\n",
    "import matplotlib.pyplot as plt\n",
    "plt.loglog(kspect[1:],spect[1:]/spect[0],\"+-\",label='Spectrum')\n",
    "plt.loglog(kspect[1:], 10.*np.power(kspect[1:],-5./3.),label='K41 -5/3' ) \n",
    "plt.grid(True, which=\"both\") \n",
    "plt.xlabel('k')\n",
    "plt.ylabel('E(u)')\n",
    "plt.title(\"Normalized velocity spectrum\")  \n",
    "plt.legend()\n",
    "plt.show()"
   ]
  },
  {
   "cell_type": "markdown",
   "metadata": {},
   "source": [
    "### Compute the velocity correlation function from the spectrum"
   ]
  },
  {
   "cell_type": "code",
   "execution_count": 29,
   "metadata": {},
   "outputs": [
    {
     "data": {
      "image/png": "[encoded data removed]",
      "text/plain": [
       "<Figure size 432x288 with 1 Axes>"
      ]
     },
     "metadata": {
      "needs_background": "light"
     },
     "output_type": "display_data"
    }
   ],
   "source": [
    "corr = np.fft.irfftn(spect)\n",
    "x=np.linspace(0,half_NZ_plus_1,half_NZ_plus_1)\n",
    "corr_norm =  corr[0:half_NZ_plus_1] - corr[half_NZ_plus_1] \n",
    "corr_norm /= corr_norm[0]\n",
    "\n",
    "plt.plot(x,corr_norm)\n",
    "plt.grid(True, which=\"both\")\n",
    "plt.xlabel('r')\n",
    "plt.ylabel('C_u(r)')\n",
    "plt.title(\"Velocity correlation function\")  \n",
    "plt.show()"
   ]
  },
  {
   "cell_type": "markdown",
   "metadata": {},
   "source": [
    "This is equivalent to the computation of the correlation function in real space, but it is much faster as the algorithm is $O(N \\log_2N)$ instead of $O(N^2)$.\n"
   ]
  },
  {
   "cell_type": "markdown",
   "metadata": {},
   "source": [
    "## Study of the velocity spatial increments\n",
    "This script computes:\n",
    "- compute PDF for several velocity increments and make a plot\n",
    "- compute the scale dependent flatness"
   ]
  },
  {
   "cell_type": "code",
   "execution_count": 33,
   "metadata": {},
   "outputs": [
    {
     "data": {
      "image/png": "[encoded data removed]",
      "text/plain": [
       "<Figure size 432x288 with 1 Axes>"
      ]
     },
     "metadata": {
      "needs_background": "light"
     },
     "output_type": "display_data"
    }
   ],
   "source": [
    "def wrap(x,s):\n",
    "    return int( (x) - np.floor((x) / s) * s )\n",
    "\n",
    "def increments(step):\n",
    "    dv = np.zeros((3,NX,NY,NZ))    \n",
    "    #here I compute the energy dissipation rate\n",
    "    for i in range(NX):\n",
    "        for j in range(NY):\n",
    "            for k in range(NZ):\n",
    "                #compute the velocity increment (only along x)\n",
    "                ip = wrap(i+step,NX)\n",
    "                dv[0][i][j][k]= (vx[ip][j][k] - vx[i][j][k])\n",
    "                jp = wrap(j+step,NY)\n",
    "                dv[1][i][j][k]= (vy[i][jp][k] - vy[i][j][k])\n",
    "                kp = wrap(k+step,NZ)\n",
    "                dv[2][i][j][k]= (vz[i][j][kp] - vz[i][j][k])                                \n",
    "    return dv\n",
    "\n",
    "step = 8\n",
    "aux = increments(step)\n",
    "a = np.reshape(aux, (3*NX*NY*NZ))\n",
    "step = 16\n",
    "aux = increments(step)\n",
    "b = np.reshape(aux, (3*NX*NY*NZ))\n",
    "step = 32\n",
    "aux = increments(step)\n",
    "c = np.reshape(aux, (3*NX*NY*NZ))\n",
    "step = 64\n",
    "aux = increments(step)\n",
    "d = np.reshape(aux, (3*NX*NY*NZ))\n",
    "\n",
    "\n",
    "# Check the shape of the distribution of velocity\n",
    "# make a single array\n",
    "#import matplotlib.pyplot as plt\n",
    "bins = 100\n",
    "plt.hist(a, bins, density=True, facecolor='r', alpha=0.5,label='increment r=8' )\n",
    "plt.hist(b, bins, density=True, facecolor='b', alpha=0.5,label='increment r=16' )\n",
    "plt.hist(c, bins, density=True, facecolor='g', alpha=0.5,label='increment r=32')\n",
    "plt.hist(d, bins, density=True, facecolor='y', alpha=0.5,label='increment r=64')\n",
    "plt.title(\"Histogram of velocity increment\")\n",
    "plt.legend(loc='upper right')  \n",
    "plt.show()"
   ]
  },
  {
   "cell_type": "code",
   "execution_count": 34,
   "metadata": {},
   "outputs": [
    {
     "data": {
      "image/png": "[encoded data removed]",
      "text/plain": [
       "<Figure size 432x288 with 1 Axes>"
      ]
     },
     "metadata": {
      "needs_background": "light"
     },
     "output_type": "display_data"
    }
   ],
   "source": [
    "#normalized variable  \n",
    "step = 8\n",
    "aux = increments(step) \n",
    "aux /= np.std(aux)\n",
    "a = np.reshape(aux, (3*NX*NY*NZ))\n",
    "step = 16\n",
    "aux = increments(step)\n",
    "aux /= np.std(aux)\n",
    "b = np.reshape(aux, (3*NX*NY*NZ))\n",
    "step = 32\n",
    "aux = increments(step)\n",
    "aux /= np.std(aux)\n",
    "c = np.reshape(aux, (3*NX*NY*NZ))\n",
    "step = 64\n",
    "aux = increments(step)\n",
    "aux /= np.std(aux)\n",
    "d = np.reshape(aux, (3*NX*NY*NZ))\n",
    "\n",
    "\n",
    "# Check the shape of the distribution of velocity\n",
    "# make a single array\n",
    "#import matplotlib.pyplot as plt\n",
    "bins = 100\n",
    "plt.hist(a, bins, density=True, facecolor='r', alpha=0.5,label='increment r=8' )\n",
    "plt.hist(b, bins, density=True, facecolor='b', alpha=0.5,label='increment r=16' )\n",
    "plt.hist(c, bins, density=True, facecolor='g', alpha=0.5,label='increment r=32')\n",
    "plt.hist(d, bins, density=True, facecolor='y', alpha=0.5,label='increment r=64')\n",
    "plt.title(\"Histogram of velocity increment\")\n",
    "plt.legend(loc='upper right')  \n",
    "plt.show()"
   ]
  },
  {
   "cell_type": "markdown",
   "metadata": {},
   "source": [
    "## Flatness (or Kurtosis) of velocity increments"
   ]
  },
  {
   "cell_type": "code",
   "execution_count": 7,
   "metadata": {},
   "outputs": [
    {
     "name": "stdout",
     "output_type": "stream",
     "text": [
      "1 6.744504836462194\n",
      "2 6.4507840519382595\n",
      "3 6.049947457439208\n",
      "4 5.620923696294621\n",
      "5 5.216476400114856\n",
      "6 4.860897480833148\n",
      "7 4.5596161819268275\n",
      "8 4.309122531639626\n",
      "9 4.1031657391178475\n",
      "10 3.935398289619483\n",
      "11 3.799965638543518\n",
      "12 3.6914669795107575\n",
      "13 3.60497630028275\n",
      "14 3.5361666236990748\n",
      "15 3.481402764911119\n",
      "16 3.437735221024251\n",
      "17 3.4027969154078845\n",
      "18 3.3746536770126503\n",
      "19 3.3516789552178206\n",
      "20 3.332491626129236\n",
      "21 3.3159479646298156\n",
      "22 3.301154670907536\n",
      "23 3.287472174913115\n",
      "24 3.2744941469417927\n",
      "25 3.2620047136297714\n",
      "26 3.2499197970369855\n",
      "27 3.23822181364586\n",
      "28 3.2269055788196965\n",
      "29 3.2159559835994886\n",
      "30 3.205361808553406\n",
      "31 3.1951447679698286\n",
      "32 3.1853726341562485\n",
      "33 3.1761404975293104\n",
      "34 3.167530090410311\n",
      "35 3.1595701190232086\n",
      "36 3.152214657369168\n",
      "37 3.145345243892266\n",
      "38 3.1387943015719695\n",
      "39 3.1323827534458504\n",
      "40 3.1259630647611467\n",
      "41 3.119456804406242\n",
      "42 3.112874918852798\n",
      "43 3.1063159400354765\n",
      "44 3.0999470081115015\n",
      "45 3.093975190260478\n",
      "46 3.0886142461263395\n",
      "47 3.08405190652393\n",
      "48 3.080425496701422\n",
      "49 3.0778136165457917\n",
      "50 3.076243311360624\n",
      "51 3.075700669497296\n",
      "52 3.076132596311259\n",
      "53 3.0774417715649283\n",
      "54 3.0794873122842352\n",
      "55 3.082096782144391\n",
      "56 3.0850820262682053\n",
      "57 3.0882494063103256\n",
      "58 3.091404878774396\n",
      "59 3.094361931296078\n",
      "60 3.0969564219933865\n",
      "61 3.0990626926535003\n",
      "62 3.100601192086408\n",
      "63 3.101532850487504\n"
     ]
    },
    {
     "data": {
      "image/png": "[encoded data removed]",
      "text/plain": [
       "<Figure size 432x288 with 1 Axes>"
      ]
     },
     "metadata": {
      "needs_background": "light"
     },
     "output_type": "display_data"
    }
   ],
   "source": [
    "steps=[]\n",
    "flatness=[]\n",
    "for i in range(1,64,1):\n",
    "    step=i\n",
    "    aux = increments(step)\n",
    "    m4 = np.mean(aux*aux*aux*aux)\n",
    "    m2 = np.mean(aux*aux)\n",
    "    f = (m4/(m2*m2))\n",
    "    flatness.append(f)\n",
    "    steps.append(step)\n",
    "    print(i,f)\n",
    "\n",
    "# write on file\n",
    "with open('flatness.dat', 'w') as f:\n",
    "    for i in range(len(flatness)):\n",
    "            line = str(steps[i])+\" \"+str(flatness[i])+\"\\n\"\n",
    "            f.write(line)\n",
    "f.closed                \n",
    "\n",
    "# graph\n",
    "#eta = 1.5 #Kolmogorov scale\n",
    "plt.semilogx(steps, flatness,label='Flatness' )\n",
    "plt.semilogx(steps, 3*np.ones(len(steps)),label='Gaussian' ) \n",
    "plt.grid(True, which=\"both\") \n",
    "plt.xlabel('increment')\n",
    "plt.ylabel('F')\n",
    "plt.title(\"Flatness of velocity increments\")  \n",
    "plt.show()"
   ]
  },
  {
   "cell_type": "code",
   "execution_count": null,
   "metadata": {},
   "outputs": [],
   "source": []
  },
  {
   "cell_type": "code",
   "execution_count": null,
   "metadata": {},
   "outputs": [],
   "source": []
  }
 ],
 "metadata": {
  "kernelspec": {
   "display_name": "Python 3",
   "language": "python",
   "name": "python3"
  },
  "language_info": {
   "codemirror_mode": {
    "name": "ipython",
    "version": 3
   },
   "file_extension": ".py",
   "mimetype": "text/x-python",
   "name": "python",
   "nbconvert_exporter": "python",
   "pygments_lexer": "ipython3",
   "version": "3.7.7"
  }
 },
 "nbformat": 4,
 "nbformat_minor": 4
}
