{
 "cells": [
  {
   "cell_type": "markdown",
   "metadata": {},
   "source": [
    "# Turbulence numerical explorations questions\n",
    "\n",
    "Author: Enrico Calzavarini enrico.calzavarini@univ-lille.fr\n",
    "\n",
    "Date limite : 23/11/2023"
   ]
  },
  {
   "cell_type": "markdown",
   "metadata": {},
   "source": [
    "## Lecture 1 : \n",
    "\n",
    "### q1) \n",
    "Check the incompressibility of the velocity field.\n",
    "\n",
    "### q2) \n",
    "Use the $\\lambda_2$ visualization techinque to show the vortex in the flow.\n",
    "\n",
    "If *skimage* library is installed (https://scikit-image.org/). "
   ]
  },
  {
   "cell_type": "markdown",
   "metadata": {},
   "source": [
    "## Lecture  2 :\n",
    "\n",
    "### q1) \n",
    "Are velocity components statistically independent? \n",
    "\n",
    "*Show it with a plot and by computing their correlation matrix.*\n",
    "\n",
    "\n",
    "You can use\n",
    "\n",
    "https://matplotlib.org/stable/api/_as_gen/matplotlib.pyplot.scatter.html\n",
    "\n",
    "and \n",
    "https://numpy.org/doc/stable/reference/generated/numpy.corrcoef.html"
   ]
  },
  {
   "cell_type": "markdown",
   "metadata": {},
   "source": [
    "### q2)\n",
    "Check the shape of the distribution of the kinetic energy dissiaption rate. \n",
    "First compute the probability density function, then perform a fit with a log-Gaussian distribution."
   ]
  },
  {
   "cell_type": "markdown",
   "metadata": {},
   "source": [
    "### q3) \n",
    "Are the velocity gradient components statistically independent?\n",
    "\n",
    "Check this with by computing their correlation coefficients."
   ]
  },
  {
   "cell_type": "markdown",
   "metadata": {},
   "source": [
    "## Lecture 3 :"
   ]
  },
  {
   "cell_type": "markdown",
   "metadata": {},
   "source": [
    "### q1) \n",
    "Compute PDF for several spatial velocity increments and make a plot.\n",
    "Use as increments $r=1,8,16,32,64$.\n",
    "\n",
    "Are these PDF all Gaussians?"
   ]
  },
  {
   "cell_type": "markdown",
   "metadata": {},
   "source": [
    "### q2) \n",
    "Compute the *Flatness coefficient* (or Kurtosis) for each case. \n",
    "\n",
    "https://en.wikipedia.org/wiki/Kurtosis\n",
    "\n",
    "Can you deduce a systematic trend?"
   ]
  },
  {
   "cell_type": "code",
   "execution_count": null,
   "metadata": {},
   "outputs": [],
   "source": []
  }
 ],
 "metadata": {
  "kernelspec": {
   "display_name": "Python 3",
   "language": "python",
   "name": "python3"
  },
  "language_info": {
   "codemirror_mode": {
    "name": "ipython",
    "version": 3
   },
   "file_extension": ".py",
   "mimetype": "text/x-python",
   "name": "python",
   "nbconvert_exporter": "python",
   "pygments_lexer": "ipython3",
   "version": "3.7.7"
  }
 },
 "nbformat": 4,
 "nbformat_minor": 4
}
